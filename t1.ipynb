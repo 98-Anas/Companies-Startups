{
 "cells": [
  {
   "cell_type": "markdown",
   "id": "eb9e1125",
   "metadata": {},
   "source": [
    "**Anas**"
   ]
  },
  {
   "cell_type": "markdown",
   "id": "d61c850f",
   "metadata": {},
   "source": [
    "<h1 style=\"color:blue\"> H1 </h1>"
   ]
  },
  {
   "cell_type": "code",
   "execution_count": 3,
   "id": "49a12004",
   "metadata": {},
   "outputs": [
    {
     "name": "stdout",
     "output_type": "stream",
     "text": [
      "anas\n"
     ]
    }
   ],
   "source": [
    "print (\"anas\")"
   ]
  },
  {
   "cell_type": "code",
   "execution_count": 10,
   "id": "65b7b2b8",
   "metadata": {},
   "outputs": [
    {
     "name": "stdout",
     "output_type": "stream",
     "text": [
      "Anas\n"
     ]
    }
   ],
   "source": [
    "print (\"Anas\")"
   ]
  },
  {
   "cell_type": "code",
   "execution_count": 11,
   "id": "1dbb2380",
   "metadata": {},
   "outputs": [],
   "source": [
    "x = \"Anas\""
   ]
  },
  {
   "cell_type": "code",
   "execution_count": 12,
   "id": "401563cf",
   "metadata": {},
   "outputs": [
    {
     "data": {
      "text/plain": [
       "str"
      ]
     },
     "execution_count": 12,
     "metadata": {},
     "output_type": "execute_result"
    }
   ],
   "source": [
    "type(x)"
   ]
  },
  {
   "cell_type": "code",
   "execution_count": 13,
   "id": "7d902d92",
   "metadata": {},
   "outputs": [
    {
     "name": "stdout",
     "output_type": "stream",
     "text": [
      "<class 'str'>\n"
     ]
    }
   ],
   "source": [
    "print(type(x))"
   ]
  },
  {
   "cell_type": "code",
   "execution_count": 18,
   "id": "ebdcc0d2",
   "metadata": {},
   "outputs": [],
   "source": [
    "x = 5\n",
    "y = 5.5\n",
    "z = True\n",
    "a = \"anas\""
   ]
  },
  {
   "cell_type": "code",
   "execution_count": 19,
   "id": "d2799056",
   "metadata": {},
   "outputs": [
    {
     "name": "stdout",
     "output_type": "stream",
     "text": [
      "<class 'int'>\n",
      "<class 'float'>\n",
      "<class 'bool'>\n",
      "<class 'str'>\n"
     ]
    }
   ],
   "source": [
    "print(type(x))\n",
    "print(type(y))\n",
    "print(type(z))\n",
    "print(type(a))"
   ]
  },
  {
   "cell_type": "code",
   "execution_count": 20,
   "id": "22ddfd81",
   "metadata": {},
   "outputs": [
    {
     "name": "stdout",
     "output_type": "stream",
     "text": [
      "enter your name: Anas Ayman\n"
     ]
    }
   ],
   "source": [
    "x = input(\"enter your name: \")"
   ]
  },
  {
   "cell_type": "code",
   "execution_count": 21,
   "id": "3c68801d",
   "metadata": {},
   "outputs": [
    {
     "name": "stdout",
     "output_type": "stream",
     "text": [
      "Anas Ayman\n"
     ]
    }
   ],
   "source": [
    "print(x)"
   ]
  },
  {
   "cell_type": "code",
   "execution_count": 29,
   "id": "22fb8028",
   "metadata": {},
   "outputs": [
    {
     "name": "stdout",
     "output_type": "stream",
     "text": [
      "please enter your username: anas\n",
      "please enter your pass: 123\n",
      "login success\n"
     ]
    }
   ],
   "source": [
    "username = \"anas\"\n",
    "password = 123\n",
    "\n",
    "userinput = input(\"please enter your username: \")\n",
    "userpass = int(input(\"please enter your pass: \"))\n",
    "\n",
    "if username == userinput and userpass == password:\n",
    "    print(\"login success\")\n",
    "else:\n",
    "    print(\"failed\")"
   ]
  },
  {
   "cell_type": "code",
   "execution_count": 56,
   "id": "02eea64f",
   "metadata": {},
   "outputs": [],
   "source": [
    "string = \"Anas Ayman\""
   ]
  },
  {
   "cell_type": "code",
   "execution_count": 31,
   "id": "becb5c02",
   "metadata": {},
   "outputs": [
    {
     "data": {
      "text/plain": [
       "'Anas'"
      ]
     },
     "execution_count": 31,
     "metadata": {},
     "output_type": "execute_result"
    }
   ],
   "source": [
    "string.capitalize()"
   ]
  },
  {
   "cell_type": "code",
   "execution_count": 32,
   "id": "a3c17912",
   "metadata": {},
   "outputs": [
    {
     "data": {
      "text/plain": [
       "'ANAS'"
      ]
     },
     "execution_count": 32,
     "metadata": {},
     "output_type": "execute_result"
    }
   ],
   "source": [
    "string.upper()"
   ]
  },
  {
   "cell_type": "code",
   "execution_count": 33,
   "id": "e8fa0af2",
   "metadata": {},
   "outputs": [
    {
     "data": {
      "text/plain": [
       "'anas'"
      ]
     },
     "execution_count": 33,
     "metadata": {},
     "output_type": "execute_result"
    }
   ],
   "source": [
    "string.lower()"
   ]
  },
  {
   "cell_type": "code",
   "execution_count": 35,
   "id": "b262d0c4",
   "metadata": {},
   "outputs": [
    {
     "data": {
      "text/plain": [
       "'Anas'"
      ]
     },
     "execution_count": 35,
     "metadata": {},
     "output_type": "execute_result"
    }
   ],
   "source": [
    "string.swapcase()"
   ]
  },
  {
   "cell_type": "code",
   "execution_count": 36,
   "id": "dd91079f",
   "metadata": {},
   "outputs": [
    {
     "data": {
      "text/plain": [
       "1"
      ]
     },
     "execution_count": 36,
     "metadata": {},
     "output_type": "execute_result"
    }
   ],
   "source": [
    "string.count(\"A\")"
   ]
  },
  {
   "cell_type": "code",
   "execution_count": 38,
   "id": "030a38d8",
   "metadata": {},
   "outputs": [
    {
     "data": {
      "text/plain": [
       "1"
      ]
     },
     "execution_count": 38,
     "metadata": {},
     "output_type": "execute_result"
    }
   ],
   "source": [
    "string.index(\"N\")"
   ]
  },
  {
   "cell_type": "code",
   "execution_count": 40,
   "id": "a033bc20",
   "metadata": {},
   "outputs": [
    {
     "data": {
      "text/plain": [
       "3"
      ]
     },
     "execution_count": 40,
     "metadata": {},
     "output_type": "execute_result"
    }
   ],
   "source": [
    "string.find(\"S\")"
   ]
  },
  {
   "cell_type": "code",
   "execution_count": 41,
   "id": "752c2544",
   "metadata": {},
   "outputs": [
    {
     "data": {
      "text/plain": [
       "'a'"
      ]
     },
     "execution_count": 41,
     "metadata": {},
     "output_type": "execute_result"
    }
   ],
   "source": [
    "string[0]"
   ]
  },
  {
   "cell_type": "code",
   "execution_count": 42,
   "id": "cf18a05b",
   "metadata": {},
   "outputs": [
    {
     "data": {
      "text/plain": [
       "'S'"
      ]
     },
     "execution_count": 42,
     "metadata": {},
     "output_type": "execute_result"
    }
   ],
   "source": [
    "string[3]"
   ]
  },
  {
   "cell_type": "code",
   "execution_count": 46,
   "id": "30061c9a",
   "metadata": {},
   "outputs": [
    {
     "data": {
      "text/plain": [
       "'Ana'"
      ]
     },
     "execution_count": 46,
     "metadata": {},
     "output_type": "execute_result"
    }
   ],
   "source": [
    "string[:-1]"
   ]
  },
  {
   "cell_type": "code",
   "execution_count": 58,
   "id": "5ca708fa",
   "metadata": {},
   "outputs": [
    {
     "data": {
      "text/plain": [
       "'Asyn'"
      ]
     },
     "execution_count": 58,
     "metadata": {},
     "output_type": "execute_result"
    }
   ],
   "source": [
    "string[::3]"
   ]
  },
  {
   "cell_type": "code",
   "execution_count": 59,
   "id": "8fc5ab48",
   "metadata": {},
   "outputs": [
    {
     "data": {
      "text/plain": [
       "'namyA sanA'"
      ]
     },
     "execution_count": 59,
     "metadata": {},
     "output_type": "execute_result"
    }
   ],
   "source": [
    "string[::-1]"
   ]
  },
  {
   "cell_type": "markdown",
   "id": "b5a90f04",
   "metadata": {},
   "source": [
    "#Containers:\n",
    "1- list\n",
    "2- tuple\n",
    "3- dict\n",
    "4- set"
   ]
  },
  {
   "cell_type": "code",
   "execution_count": 66,
   "id": "c1b8a07f",
   "metadata": {},
   "outputs": [],
   "source": [
    "x = [1,2,3,4,\"thor\",True]"
   ]
  },
  {
   "cell_type": "code",
   "execution_count": 61,
   "id": "c3470b98",
   "metadata": {},
   "outputs": [
    {
     "data": {
      "text/plain": [
       "list"
      ]
     },
     "execution_count": 61,
     "metadata": {},
     "output_type": "execute_result"
    }
   ],
   "source": [
    "type(x)"
   ]
  },
  {
   "cell_type": "code",
   "execution_count": 67,
   "id": "0e2076b0",
   "metadata": {},
   "outputs": [],
   "source": [
    "x.append(\"anas\")"
   ]
  },
  {
   "cell_type": "code",
   "execution_count": 68,
   "id": "3e4cdd03",
   "metadata": {},
   "outputs": [
    {
     "data": {
      "text/plain": [
       "[1, 2, 3, 4, 'thor', True, 'anas']"
      ]
     },
     "execution_count": 68,
     "metadata": {},
     "output_type": "execute_result"
    }
   ],
   "source": [
    "x"
   ]
  },
  {
   "cell_type": "code",
   "execution_count": 70,
   "id": "2cc97ed7",
   "metadata": {},
   "outputs": [
    {
     "data": {
      "text/plain": [
       "['Anas Ayman']"
      ]
     },
     "execution_count": 70,
     "metadata": {},
     "output_type": "execute_result"
    }
   ],
   "source": [
    "newlist = []\n",
    "newlist.append(string)\n",
    "newlist"
   ]
  },
  {
   "cell_type": "code",
   "execution_count": 72,
   "id": "84f17c80",
   "metadata": {},
   "outputs": [
    {
     "data": {
      "text/plain": [
       "[1, 2, 3, 4, 'thor']"
      ]
     },
     "execution_count": 72,
     "metadata": {},
     "output_type": "execute_result"
    }
   ],
   "source": [
    "x.pop()\n",
    "x"
   ]
  },
  {
   "cell_type": "code",
   "execution_count": 74,
   "id": "1ea8aa6a",
   "metadata": {},
   "outputs": [
    {
     "data": {
      "text/plain": [
       "[1, 2, 3, 4, 'thor', 'anas', True]"
      ]
     },
     "execution_count": 74,
     "metadata": {},
     "output_type": "execute_result"
    }
   ],
   "source": [
    "x.append(True)\n",
    "x"
   ]
  },
  {
   "cell_type": "code",
   "execution_count": 76,
   "id": "12894475",
   "metadata": {},
   "outputs": [
    {
     "data": {
      "text/plain": [
       "['Zaki', 'ahmed']"
      ]
     },
     "execution_count": 76,
     "metadata": {},
     "output_type": "execute_result"
    }
   ],
   "source": [
    "x = ['ahmed','Zaki']\n",
    "x.sort()\n",
    "x"
   ]
  },
  {
   "cell_type": "code",
   "execution_count": 80,
   "id": "0c24ff4a",
   "metadata": {},
   "outputs": [
    {
     "data": {
      "text/plain": [
       "['ahmed', 'ali', 'anas']"
      ]
     },
     "execution_count": 80,
     "metadata": {},
     "output_type": "execute_result"
    }
   ],
   "source": [
    "names = \"ahmed,ali,anas\"\n",
    "names.split(',')"
   ]
  },
  {
   "cell_type": "code",
   "execution_count": 81,
   "id": "98fd496f",
   "metadata": {},
   "outputs": [],
   "source": [
    "newlist = names.split(\",\")\n"
   ]
  },
  {
   "cell_type": "code",
   "execution_count": 82,
   "id": "7ee10c6a",
   "metadata": {},
   "outputs": [
    {
     "data": {
      "text/plain": [
       "['ahmed', 'ali', 'anas']"
      ]
     },
     "execution_count": 82,
     "metadata": {},
     "output_type": "execute_result"
    }
   ],
   "source": [
    "newlist"
   ]
  },
  {
   "cell_type": "code",
   "execution_count": 83,
   "id": "7ec04e99",
   "metadata": {},
   "outputs": [
    {
     "data": {
      "text/plain": [
       "[1, 3, 4, [12, 2, 3]]"
      ]
     },
     "execution_count": 83,
     "metadata": {},
     "output_type": "execute_result"
    }
   ],
   "source": [
    "x = [1,3,4,[1,2,3]]\n",
    "x[3][0] = 12\n",
    "x"
   ]
  },
  {
   "cell_type": "code",
   "execution_count": 87,
   "id": "2e6e6b04",
   "metadata": {},
   "outputs": [],
   "source": [
    "y = (1,2,3,[4,5])"
   ]
  },
  {
   "cell_type": "code",
   "execution_count": 89,
   "id": "d21f5d23",
   "metadata": {},
   "outputs": [
    {
     "data": {
      "text/plain": [
       "(1, 2, 3, [9, 5])"
      ]
     },
     "execution_count": 89,
     "metadata": {},
     "output_type": "execute_result"
    }
   ],
   "source": [
    "y[-1][0] = 9\n",
    "y"
   ]
  },
  {
   "cell_type": "code",
   "execution_count": 91,
   "id": "2421c8f2",
   "metadata": {},
   "outputs": [
    {
     "data": {
      "text/plain": [
       "(1, 2, 3, [9, 5], 14, 55, 14, 55)"
      ]
     },
     "execution_count": 91,
     "metadata": {},
     "output_type": "execute_result"
    }
   ],
   "source": [
    "y += (14,55)\n",
    "y"
   ]
  },
  {
   "cell_type": "code",
   "execution_count": 92,
   "id": "f5c82def",
   "metadata": {},
   "outputs": [
    {
     "data": {
      "text/plain": [
       "{0, 4, 6, 7, 9}"
      ]
     },
     "execution_count": 92,
     "metadata": {},
     "output_type": "execute_result"
    }
   ],
   "source": [
    "s = {0,9,'6',7,4}\n",
    "s"
   ]
  },
  {
   "cell_type": "code",
   "execution_count": 94,
   "id": "a7a4bc1d",
   "metadata": {},
   "outputs": [
    {
     "data": {
      "text/plain": [
       "{6, 7, 9}"
      ]
     },
     "execution_count": 94,
     "metadata": {},
     "output_type": "execute_result"
    }
   ],
   "source": [
    "s.pop()\n",
    "s"
   ]
  },
  {
   "cell_type": "code",
   "execution_count": 96,
   "id": "2394376a",
   "metadata": {},
   "outputs": [
    {
     "data": {
      "text/plain": [
       "{'egy': '02', 'US': '001', 'katar': '980'}"
      ]
     },
     "execution_count": 96,
     "metadata": {},
     "output_type": "execute_result"
    }
   ],
   "source": [
    "d = {\"egy\":\"02\",\"US\":\"001\",\"katar\":\"980\"}\n",
    "d"
   ]
  },
  {
   "cell_type": "code",
   "execution_count": 97,
   "id": "f13a8897",
   "metadata": {},
   "outputs": [
    {
     "data": {
      "text/plain": [
       "'02'"
      ]
     },
     "execution_count": 97,
     "metadata": {},
     "output_type": "execute_result"
    }
   ],
   "source": [
    "d['egy']"
   ]
  },
  {
   "cell_type": "code",
   "execution_count": 98,
   "id": "7e5e3524",
   "metadata": {},
   "outputs": [
    {
     "name": "stdout",
     "output_type": "stream",
     "text": [
      "1\n",
      "3\n",
      "4\n",
      "[12, 2, 3]\n"
     ]
    }
   ],
   "source": [
    "for i in x:\n",
    "    print(i)"
   ]
  },
  {
   "cell_type": "code",
   "execution_count": 103,
   "id": "556b459a",
   "metadata": {},
   "outputs": [
    {
     "name": "stdout",
     "output_type": "stream",
     "text": [
      "1\n",
      "3\n",
      "4\n",
      "[12, 2, 3]\n"
     ]
    }
   ],
   "source": [
    "for i in range (0,len(x)):\n",
    "    print(x[i])"
   ]
  },
  {
   "cell_type": "code",
   "execution_count": 107,
   "id": "a849bf2c",
   "metadata": {},
   "outputs": [
    {
     "data": {
      "text/plain": [
       "3"
      ]
     },
     "execution_count": 107,
     "metadata": {},
     "output_type": "execute_result"
    }
   ],
   "source": [
    "x = [1,23,4,5,1,1]\n",
    "counter = 0 \n",
    "for i in x:\n",
    "    if i == 1:\n",
    "        counter += 1\n",
    "counter"
   ]
  },
  {
   "cell_type": "code",
   "execution_count": null,
   "id": "c031f7cf",
   "metadata": {},
   "outputs": [],
   "source": []
  }
 ],
 "metadata": {
  "kernelspec": {
   "display_name": "Python 3",
   "language": "python",
   "name": "python3"
  },
  "language_info": {
   "codemirror_mode": {
    "name": "ipython",
    "version": 3
   },
   "file_extension": ".py",
   "mimetype": "text/x-python",
   "name": "python",
   "nbconvert_exporter": "python",
   "pygments_lexer": "ipython3",
   "version": "3.7.6"
  }
 },
 "nbformat": 4,
 "nbformat_minor": 5
}
